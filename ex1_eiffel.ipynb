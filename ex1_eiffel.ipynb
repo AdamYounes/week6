{
 "cells": [
  {
   "cell_type": "markdown",
   "id": "surgical-sarah",
   "metadata": {},
   "source": [
    "# Eiffeltornet\n",
    "\n",
    "![eiffeltornet](https://pixfeeds.com/images/france/travel/1280-466478690-eiffel-tower-at-winter.jpg)\n",
    "\n",
    "<br>\n",
    "\n",
    "*Vad skulle man kunna ställa för frågor till den här bilden?*\n",
    "\n",
    "<div style=\"height:100px\" />\n"
   ]
  },
  {
   "cell_type": "markdown",
   "id": "perfect-trailer",
   "metadata": {},
   "source": [
    "# Övning 1\n",
    "\n",
    "**Fråga: <mark>Vad skulle det kosta i elräkning att hissa upp en bil till Eiffeltornets topp?</mark>**\n",
    "\n",
    "<img src=\"https://history.vattenfall.com/sites/default/files/styles/articlefeaturedmedia/public/VF000208.jpg\" width=\"400\" style=\"float:right\" />\n",
    "\n",
    "1. Gissning\n",
    "2. Uppskattning\n",
    "3. Beräkning\n"
   ]
  },
  {
   "cell_type": "code",
   "execution_count": null,
   "id": "primary-skating",
   "metadata": {},
   "outputs": [],
   "source": []
  },
  {
   "cell_type": "markdown",
   "id": "cleared-machinery",
   "metadata": {},
   "source": [
    "<div style=\"height:400px\" />\n"
   ]
  },
  {
   "cell_type": "markdown",
   "id": "exact-strengthening",
   "metadata": {},
   "source": [
    "# Övning 2\n",
    "\n",
    "**Fråga: <mark>Ungefär hur lång tid skulle det ta att hissa upp den för hand, med mänsklig kraft? För dig?</mark>**\n",
    "\n",
    "<img src=\"http://www.agrc.umd.edu/gamera/gamera2/images/human-power1.png\" />\n"
   ]
  },
  {
   "cell_type": "code",
   "execution_count": null,
   "id": "surrounded-frost",
   "metadata": {},
   "outputs": [],
   "source": []
  },
  {
   "cell_type": "markdown",
   "id": "marine-definition",
   "metadata": {},
   "source": [
    "<div style=\"height:300px\" />"
   ]
  },
  {
   "cell_type": "markdown",
   "id": "bound-leather",
   "metadata": {},
   "source": [
    "# Övning 3\n",
    "\n",
    "**Fråga: <mark>Hur många varv måste du veva?</mark>**\n",
    "\n",
    "<img src=\"http://www.agrc.umd.edu/gamera/gamera2/images/human-power1.png\" />\n"
   ]
  },
  {
   "cell_type": "code",
   "execution_count": null,
   "id": "aquatic-burst",
   "metadata": {},
   "outputs": [],
   "source": []
  }
 ],
 "metadata": {
  "kernelspec": {
   "display_name": "Python 3",
   "language": "python",
   "name": "python3"
  },
  "language_info": {
   "codemirror_mode": {
    "name": "ipython",
    "version": 3
   },
   "file_extension": ".py",
   "mimetype": "text/x-python",
   "name": "python",
   "nbconvert_exporter": "python",
   "pygments_lexer": "ipython3",
   "version": "3.6.9"
  }
 },
 "nbformat": 4,
 "nbformat_minor": 5
}
